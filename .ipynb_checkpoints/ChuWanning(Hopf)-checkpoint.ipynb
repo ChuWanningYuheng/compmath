{
 "cells": [
  {
   "cell_type": "code",
   "execution_count": 1,
   "id": "8a8296f8",
   "metadata": {},
   "outputs": [],
   "source": [
    "import numpy as np\n",
    "import matplotlib.pyplot as plt\n",
    "import math\n",
    "from matplotlib.animation import FuncAnimation\n",
    "from PIL import Image"
   ]
  },
  {
   "cell_type": "code",
   "execution_count": 32,
   "id": "abaa8fe4",
   "metadata": {},
   "outputs": [],
   "source": [
    "class grid():\n",
    "    def __init__ (self, CFL):\n",
    "    \n",
    "        self.L = 10\n",
    "        self.T = 10\n",
    "        self.h = 0.1\n",
    "        self.CFL = CFL\n",
    "#         self.tau = self.h * CFL\n",
    "        self.tau = 0.1\n",
    "\n",
    "        self.xr = np.arange(0, (self.L + self.h/2) , self.h)\n",
    "        self.tr = np.arange(0, (self.T + self.tau/2), self.tau)\n",
    "        self.N = len(self.tr)\n",
    "        self.M = len(self.xr)\n",
    "    "
   ]
  },
  {
   "cell_type": "code",
   "execution_count": 33,
   "id": "c8a4c81f",
   "metadata": {},
   "outputs": [],
   "source": [
    "grid_06 = grid(0.6)"
   ]
  },
  {
   "cell_type": "code",
   "execution_count": 34,
   "id": "ff75319c",
   "metadata": {},
   "outputs": [],
   "source": [
    "f = lambda u: u**2/2\n",
    "def F(Ucurr, Unext):\n",
    "    S = np.mean([Ucurr, Unext])\n",
    "    if Ucurr >= Unext:\n",
    "        return f(Ucurr) if S >= 0 else f(Unext)\n",
    "    else:\n",
    "        return f(Ucurr) if Ucurr >= 0 else (f(Unext) if Unext <= 0 else 0)\n"
   ]
  },
  {
   "cell_type": "code",
   "execution_count": 35,
   "id": "a6b1af60",
   "metadata": {},
   "outputs": [],
   "source": [
    "Y = lambda grid, Uprev, Ucurr, Unext: Ucurr - grid.tau/grid.h * (Ucurr * (F(Ucurr, Unext) - F(Uprev, Ucurr)))"
   ]
  },
  {
   "cell_type": "markdown",
   "id": "791e5767",
   "metadata": {},
   "source": [
    "u0 = lambda n: np.sin(n)/10"
   ]
  },
  {
   "cell_type": "code",
   "execution_count": 81,
   "id": "a5246034",
   "metadata": {},
   "outputs": [],
   "source": [
    "u0 = lambda grid, x: np.sin(np.pi * x / grid.L)"
   ]
  },
  {
   "cell_type": "code",
   "execution_count": 82,
   "id": "bb22cc7f",
   "metadata": {},
   "outputs": [],
   "source": [
    "def Godunov(grid):\n",
    "    u = np.zeros([grid.N, grid.M])\n",
    "#     u[0] = [u0(n) for n in range(grid.M)]\n",
    "    u[0] = [u0(grid, x) for x in grid.xr]\n",
    "    for i in range(grid.N - 1):\n",
    "        u[i+1][0] = Y(grid, u[i][grid.M-1], u[i][0], u[i][1])\n",
    "        for j in range(1, grid.M-1):\n",
    "            u[i+1][j] = Y(grid, u[i][j-1], u[i][j], u[i][j+1])\n",
    "        u[i+1][grid.M-1] = Y(grid, u[i][grid.M-2], u[i][grid.M-1], u[i][0])\n",
    "        \n",
    "    return u"
   ]
  },
  {
   "cell_type": "code",
   "execution_count": 83,
   "id": "cf6450f8",
   "metadata": {},
   "outputs": [],
   "source": [
    "data = Godunov(grid_06)"
   ]
  },
  {
   "cell_type": "code",
   "execution_count": 84,
   "id": "f322e245",
   "metadata": {
    "scrolled": true
   },
   "outputs": [
    {
     "data": {
      "image/png": "[encoded data removed]",
      "text/plain": [
       "<Figure size 432x288 with 1 Axes>"
      ]
     },
     "metadata": {
      "needs_background": "light"
     },
     "output_type": "display_data"
    }
   ],
   "source": [
    "fig, ax = plt.subplots()\n",
    "line, = ax.plot([], [], lw=2)\n",
    "ax.set_xlim(0, len(data[0]))\n",
    "ax.set_ylim(0, np.max(data))\n",
    "\n",
    "# Функция для обновления данных в каждом кадре анимации\n",
    "def update(frame):\n",
    "    line.set_data(np.arange(len(data[frame])), data[frame])\n",
    "    return line,\n",
    "\n",
    "# Создание анимации\n",
    "ani = FuncAnimation(fig, update, frames=len(grid_06.xr), blit=True)\n",
    "\n",
    "# Сохранение анимации в GIF файл\n",
    "ani.save('animationGod.gif', writer='pillow')\n"
   ]
  },
  {
   "cell_type": "code",
   "execution_count": null,
   "id": "7486344f",
   "metadata": {},
   "outputs": [],
   "source": []
  }
 ],
 "metadata": {
  "kernelspec": {
   "display_name": "Python 3 (ipykernel)",
   "language": "python",
   "name": "python3"
  },
  "language_info": {
   "codemirror_mode": {
    "name": "ipython",
    "version": 3
   },
   "file_extension": ".py",
   "mimetype": "text/x-python",
   "name": "python",
   "nbconvert_exporter": "python",
   "pygments_lexer": "ipython3",
   "version": "3.9.7"
  }
 },
 "nbformat": 4,
 "nbformat_minor": 5
}
